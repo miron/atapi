{
 "cells": [
  {
   "cell_type": "markdown",
   "metadata": {},
   "source": [
    "Install dependencies with:\n",
    "```sh\n",
    "pip install -r requirements.txt\n",
    "```"
   ]
  },
  {
   "cell_type": "markdown",
   "metadata": {},
   "source": [
    "For some functionality you need a valid API-key.  \n",
    "Export as environment variables.\n",
    "Afterwards run notebook from same shell.\n",
    "\n",
    "\n",
    "Bash/Sh/Zsh:\n",
    "```sh\n",
    "export BINANCE_API_KEY='your_api_key'\n",
    "export BINANCE_API_SECRET='your_secret_key'\n",
    "\n",
    "# Check\n",
    "echo $BINANCE_API_KEY\n",
    "echo $BINANCE_API_SECRET\n",
    "```\n",
    "Powershell:\n",
    "```powershell\n",
    "$env:BINANCE_API_KEY = 'your_api_key'\n",
    "$env:BINANCE_API_SECRET = 'your_secret_key'\n",
    "\n",
    "# Check\n",
    "$env:BINANCE_API_KEY\n",
    "$env:BINANCE_API_KEY\n",
    "```"
   ]
  },
  {
   "cell_type": "code",
   "execution_count": 4,
   "metadata": {},
   "outputs": [],
   "source": [
    "import os\n",
    "import pandas as pd\n",
    "import numpy as np\n",
    "from binance.spot import Spot as Client"
   ]
  },
  {
   "cell_type": "code",
   "execution_count": 5,
   "metadata": {},
   "outputs": [
    {
     "name": "stdout",
     "output_type": "stream",
     "text": [
      "{'serverTime': 1651950670158}\n"
     ]
    }
   ],
   "source": [
    "# Ommit base_url argument to default to api.binance.com\n",
    "client = Client(os.getenv('BINANCE_API_KEY'), os.getenv('BINANCE_API_SECRET'), base_url='https://testnet.binance.vision')\n",
    "print(client.time())"
   ]
  },
  {
   "cell_type": "code",
   "execution_count": 6,
   "metadata": {},
   "outputs": [
    {
     "data": {
      "text/html": [
       "<div>\n",
       "<style scoped>\n",
       "    .dataframe tbody tr th:only-of-type {\n",
       "        vertical-align: middle;\n",
       "    }\n",
       "\n",
       "    .dataframe tbody tr th {\n",
       "        vertical-align: top;\n",
       "    }\n",
       "\n",
       "    .dataframe thead th {\n",
       "        text-align: right;\n",
       "    }\n",
       "</style>\n",
       "<table border=\"1\" class=\"dataframe\">\n",
       "  <thead>\n",
       "    <tr style=\"text-align: right;\">\n",
       "      <th></th>\n",
       "      <th>asset</th>\n",
       "      <th>free</th>\n",
       "      <th>locked</th>\n",
       "    </tr>\n",
       "  </thead>\n",
       "  <tbody>\n",
       "    <tr>\n",
       "      <th>0</th>\n",
       "      <td>BNB</td>\n",
       "      <td>1000.00000000</td>\n",
       "      <td>0.00000000</td>\n",
       "    </tr>\n",
       "    <tr>\n",
       "      <th>1</th>\n",
       "      <td>BTC</td>\n",
       "      <td>1.00000000</td>\n",
       "      <td>0.00000000</td>\n",
       "    </tr>\n",
       "    <tr>\n",
       "      <th>2</th>\n",
       "      <td>BUSD</td>\n",
       "      <td>10000.00000000</td>\n",
       "      <td>0.00000000</td>\n",
       "    </tr>\n",
       "    <tr>\n",
       "      <th>3</th>\n",
       "      <td>ETH</td>\n",
       "      <td>100.00000000</td>\n",
       "      <td>0.00000000</td>\n",
       "    </tr>\n",
       "    <tr>\n",
       "      <th>4</th>\n",
       "      <td>LTC</td>\n",
       "      <td>500.00000000</td>\n",
       "      <td>0.00000000</td>\n",
       "    </tr>\n",
       "    <tr>\n",
       "      <th>5</th>\n",
       "      <td>TRX</td>\n",
       "      <td>500000.00000000</td>\n",
       "      <td>0.00000000</td>\n",
       "    </tr>\n",
       "    <tr>\n",
       "      <th>6</th>\n",
       "      <td>USDT</td>\n",
       "      <td>10000.00000000</td>\n",
       "      <td>0.00000000</td>\n",
       "    </tr>\n",
       "    <tr>\n",
       "      <th>7</th>\n",
       "      <td>XRP</td>\n",
       "      <td>50000.00000000</td>\n",
       "      <td>0.00000000</td>\n",
       "    </tr>\n",
       "  </tbody>\n",
       "</table>\n",
       "</div>"
      ],
      "text/plain": [
       "  asset             free      locked\n",
       "0   BNB    1000.00000000  0.00000000\n",
       "1   BTC       1.00000000  0.00000000\n",
       "2  BUSD   10000.00000000  0.00000000\n",
       "3   ETH     100.00000000  0.00000000\n",
       "4   LTC     500.00000000  0.00000000\n",
       "5   TRX  500000.00000000  0.00000000\n",
       "6  USDT   10000.00000000  0.00000000\n",
       "7   XRP   50000.00000000  0.00000000"
      ]
     },
     "execution_count": 6,
     "metadata": {},
     "output_type": "execute_result"
    }
   ],
   "source": [
    "pd.json_normalize(client.account()['balances'])"
   ]
  },
  {
   "cell_type": "code",
   "execution_count": 70,
   "metadata": {},
   "outputs": [],
   "source": [
    "symbols = ['BTCUSDT', 'ETHUSDT', 'BNBUSDT', 'LTCUSDT', 'TRXUSDT', 'XRPUSDT' ]"
   ]
  },
  {
   "cell_type": "code",
   "execution_count": 192,
   "metadata": {},
   "outputs": [],
   "source": [
    "df = pd.DataFrame(columns=symbols)\n",
    "for symbol in symbols:\n",
    "     # df[symbol]= [(c[4], c[6]) for c in client.klines(symbol, \"1d\")] can't extract timestamp from tuple, only save in dataframe cells.\n",
    "     df[symbol]= [c[4] for c in client.klines(symbol, \"1d\")]"
   ]
  },
  {
   "cell_type": "code",
   "execution_count": 193,
   "metadata": {},
   "outputs": [
    {
     "data": {
      "text/html": [
       "<div>\n",
       "<style scoped>\n",
       "    .dataframe tbody tr th:only-of-type {\n",
       "        vertical-align: middle;\n",
       "    }\n",
       "\n",
       "    .dataframe tbody tr th {\n",
       "        vertical-align: top;\n",
       "    }\n",
       "\n",
       "    .dataframe thead th {\n",
       "        text-align: right;\n",
       "    }\n",
       "</style>\n",
       "<table border=\"1\" class=\"dataframe\">\n",
       "  <thead>\n",
       "    <tr style=\"text-align: right;\">\n",
       "      <th></th>\n",
       "      <th>BTCUSDT</th>\n",
       "      <th>ETHUSDT</th>\n",
       "      <th>BNBUSDT</th>\n",
       "      <th>LTCUSDT</th>\n",
       "      <th>TRXUSDT</th>\n",
       "      <th>XRPUSDT</th>\n",
       "    </tr>\n",
       "  </thead>\n",
       "  <tbody>\n",
       "    <tr>\n",
       "      <th>0</th>\n",
       "      <td>39695.80000000</td>\n",
       "      <td>2940.67000000</td>\n",
       "      <td>402.60000000</td>\n",
       "      <td>106.40000000</td>\n",
       "      <td>0.08630000</td>\n",
       "      <td>0.64610000</td>\n",
       "    </tr>\n",
       "    <tr>\n",
       "      <th>1</th>\n",
       "      <td>36551.04000000</td>\n",
       "      <td>2747.93000000</td>\n",
       "      <td>378.50000000</td>\n",
       "      <td>96.90000000</td>\n",
       "      <td>0.07454000</td>\n",
       "      <td>0.59830000</td>\n",
       "    </tr>\n",
       "    <tr>\n",
       "      <th>2</th>\n",
       "      <td>35844.54000000</td>\n",
       "      <td>2655.33000000</td>\n",
       "      <td>157.07000000</td>\n",
       "      <td>95.60000000</td>\n",
       "      <td>0.08167000</td>\n",
       "      <td>0.58130000</td>\n",
       "    </tr>\n",
       "    <tr>\n",
       "      <th>3</th>\n",
       "      <td>35187.42000000</td>\n",
       "      <td>2623.81000000</td>\n",
       "      <td>365.50000000</td>\n",
       "      <td>94.10000000</td>\n",
       "      <td>0.08168000</td>\n",
       "      <td>0.58150000</td>\n",
       "    </tr>\n",
       "  </tbody>\n",
       "</table>\n",
       "</div>"
      ],
      "text/plain": [
       "          BTCUSDT        ETHUSDT       BNBUSDT       LTCUSDT     TRXUSDT  \\\n",
       "0  39695.80000000  2940.67000000  402.60000000  106.40000000  0.08630000   \n",
       "1  36551.04000000  2747.93000000  378.50000000   96.90000000  0.07454000   \n",
       "2  35844.54000000  2655.33000000  157.07000000   95.60000000  0.08167000   \n",
       "3  35187.42000000  2623.81000000  365.50000000   94.10000000  0.08168000   \n",
       "\n",
       "      XRPUSDT  \n",
       "0  0.64610000  \n",
       "1  0.59830000  \n",
       "2  0.58130000  \n",
       "3  0.58150000  "
      ]
     },
     "execution_count": 193,
     "metadata": {},
     "output_type": "execute_result"
    }
   ],
   "source": [
    "df"
   ]
  }
 ],
 "metadata": {
  "interpreter": {
   "hash": "256403d68b5d0af2638f25542965113b369c229327ad6922ccca59b793ac3c52"
  },
  "kernelspec": {
   "display_name": "Python 3.10.4 64-bit",
   "language": "python",
   "name": "python3"
  },
  "language_info": {
   "codemirror_mode": {
    "name": "ipython",
    "version": 3
   },
   "file_extension": ".py",
   "mimetype": "text/x-python",
   "name": "python",
   "nbconvert_exporter": "python",
   "pygments_lexer": "ipython3",
   "version": "3.10.4"
  },
  "orig_nbformat": 4
 },
 "nbformat": 4,
 "nbformat_minor": 2
}
