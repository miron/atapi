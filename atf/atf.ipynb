{
 "cells": [
  {
   "cell_type": "markdown",
   "metadata": {},
   "source": [
    "## Algorithmic Trading Framework\n",
    "Data is from testnet, and therefore not accurate.\n",
    "\n",
    "Install dependencies with:\n",
    "```sh\n",
    "pip install -r requirements.txt\n",
    "```"
   ]
  },
  {
   "cell_type": "markdown",
   "metadata": {},
   "source": [
    "For some functionality you need a valid API-key.  \n",
    "Export as environment variables.\n",
    "Afterwards run notebook from same shell.\n",
    "\n",
    "\n",
    "Bash/Sh/Zsh:\n",
    "```sh\n",
    "export BINANCE_API_KEY='your_api_key'\n",
    "export BINANCE_API_SECRET='your_secret_key'\n",
    "\n",
    "# Check\n",
    "echo $BINANCE_API_KEY\n",
    "echo $BINANCE_API_SECRET\n",
    "```\n",
    "Powershell:\n",
    "```powershell\n",
    "$env:BINANCE_API_KEY = 'your_api_key'\n",
    "$env:BINANCE_API_SECRET = 'your_secret_key'\n",
    "\n",
    "# Check\n",
    "$env:BINANCE_API_KEY\n",
    "$env:BINANCE_API_KEY\n",
    "```"
   ]
  },
  {
   "cell_type": "code",
   "execution_count": 76,
   "metadata": {},
   "outputs": [],
   "source": [
    "import os\n",
    "import pandas as pd\n",
    "import numpy as np\n",
    "import scipy.optimize as sco\n",
    "from binance.spot import Spot as Client\n",
    "pd.set_option('display.max_rows', 80)\n",
    "# pd.reset_option('display.float_format')"
   ]
  },
  {
   "cell_type": "code",
   "execution_count": 77,
   "metadata": {},
   "outputs": [
    {
     "data": {
      "text/plain": [
       "Timestamp('2022-05-10 08:31:10.941000')"
      ]
     },
     "execution_count": 77,
     "metadata": {},
     "output_type": "execute_result"
    }
   ],
   "source": [
    "# Ommit base_url argument to default to api.binance.com\n",
    "client = Client(os.getenv('BINANCE_API_KEY'), os.getenv('BINANCE_API_SECRET'), base_url='https://testnet.binance.vision')\n",
    "pd.to_datetime(client.time()['serverTime'], unit='ms')"
   ]
  },
  {
   "cell_type": "markdown",
   "metadata": {},
   "source": [
    "If your time is off you need to synchronize with timeserver"
   ]
  },
  {
   "cell_type": "code",
   "execution_count": 78,
   "metadata": {},
   "outputs": [
    {
     "data": {
      "text/html": [
       "<div>\n",
       "<style scoped>\n",
       "    .dataframe tbody tr th:only-of-type {\n",
       "        vertical-align: middle;\n",
       "    }\n",
       "\n",
       "    .dataframe tbody tr th {\n",
       "        vertical-align: top;\n",
       "    }\n",
       "\n",
       "    .dataframe thead th {\n",
       "        text-align: right;\n",
       "    }\n",
       "</style>\n",
       "<table border=\"1\" class=\"dataframe\">\n",
       "  <thead>\n",
       "    <tr style=\"text-align: right;\">\n",
       "      <th></th>\n",
       "      <th>asset</th>\n",
       "      <th>free</th>\n",
       "      <th>locked</th>\n",
       "    </tr>\n",
       "  </thead>\n",
       "  <tbody>\n",
       "    <tr>\n",
       "      <th>0</th>\n",
       "      <td>BNB</td>\n",
       "      <td>1000.00000000</td>\n",
       "      <td>0.00000000</td>\n",
       "    </tr>\n",
       "    <tr>\n",
       "      <th>1</th>\n",
       "      <td>BTC</td>\n",
       "      <td>1.00000000</td>\n",
       "      <td>0.00000000</td>\n",
       "    </tr>\n",
       "    <tr>\n",
       "      <th>2</th>\n",
       "      <td>BUSD</td>\n",
       "      <td>10000.00000000</td>\n",
       "      <td>0.00000000</td>\n",
       "    </tr>\n",
       "    <tr>\n",
       "      <th>3</th>\n",
       "      <td>ETH</td>\n",
       "      <td>100.00000000</td>\n",
       "      <td>0.00000000</td>\n",
       "    </tr>\n",
       "    <tr>\n",
       "      <th>4</th>\n",
       "      <td>LTC</td>\n",
       "      <td>500.00000000</td>\n",
       "      <td>0.00000000</td>\n",
       "    </tr>\n",
       "    <tr>\n",
       "      <th>5</th>\n",
       "      <td>TRX</td>\n",
       "      <td>500000.00000000</td>\n",
       "      <td>0.00000000</td>\n",
       "    </tr>\n",
       "    <tr>\n",
       "      <th>6</th>\n",
       "      <td>USDT</td>\n",
       "      <td>10000.00000000</td>\n",
       "      <td>0.00000000</td>\n",
       "    </tr>\n",
       "    <tr>\n",
       "      <th>7</th>\n",
       "      <td>XRP</td>\n",
       "      <td>50000.00000000</td>\n",
       "      <td>0.00000000</td>\n",
       "    </tr>\n",
       "  </tbody>\n",
       "</table>\n",
       "</div>"
      ],
      "text/plain": [
       "  asset             free      locked\n",
       "0   BNB    1000.00000000  0.00000000\n",
       "1   BTC       1.00000000  0.00000000\n",
       "2  BUSD   10000.00000000  0.00000000\n",
       "3   ETH     100.00000000  0.00000000\n",
       "4   LTC     500.00000000  0.00000000\n",
       "5   TRX  500000.00000000  0.00000000\n",
       "6  USDT   10000.00000000  0.00000000\n",
       "7   XRP   50000.00000000  0.00000000"
      ]
     },
     "execution_count": 78,
     "metadata": {},
     "output_type": "execute_result"
    }
   ],
   "source": [
    "balance = pd.json_normalize(client.account()['balances'])\n",
    "balance"
   ]
  },
  {
   "cell_type": "code",
   "execution_count": 79,
   "metadata": {},
   "outputs": [],
   "source": [
    "symbols = ['BTCUSDT', 'ETHUSDT', 'BNBUSDT', 'LTCUSDT', 'TRXUSDT', 'XRPUSDT' ]\n",
    "columns =  ['Open time','Open', 'High', 'Low', 'Close', 'Volume', 'Close time', 'Quote asset volume', 'Number of trades', 'Taker buy base asset volume', 'Taker buy quote asset volume', 'Ignore' ]"
   ]
  },
  {
   "cell_type": "code",
   "execution_count": 80,
   "metadata": {},
   "outputs": [
    {
     "data": {
      "text/html": [
       "<div>\n",
       "<style scoped>\n",
       "    .dataframe tbody tr th:only-of-type {\n",
       "        vertical-align: middle;\n",
       "    }\n",
       "\n",
       "    .dataframe tbody tr th {\n",
       "        vertical-align: top;\n",
       "    }\n",
       "\n",
       "    .dataframe thead tr th {\n",
       "        text-align: left;\n",
       "    }\n",
       "</style>\n",
       "<table border=\"1\" class=\"dataframe\">\n",
       "  <thead>\n",
       "    <tr>\n",
       "      <th></th>\n",
       "      <th colspan=\"10\" halign=\"left\">BTCUSDT</th>\n",
       "      <th>...</th>\n",
       "      <th colspan=\"10\" halign=\"left\">XRPUSDT</th>\n",
       "    </tr>\n",
       "    <tr>\n",
       "      <th></th>\n",
       "      <th>Open time</th>\n",
       "      <th>Open</th>\n",
       "      <th>High</th>\n",
       "      <th>Low</th>\n",
       "      <th>Close</th>\n",
       "      <th>Volume</th>\n",
       "      <th>Close time</th>\n",
       "      <th>Quote asset volume</th>\n",
       "      <th>Number of trades</th>\n",
       "      <th>Taker buy base asset volume</th>\n",
       "      <th>...</th>\n",
       "      <th>High</th>\n",
       "      <th>Low</th>\n",
       "      <th>Close</th>\n",
       "      <th>Volume</th>\n",
       "      <th>Close time</th>\n",
       "      <th>Quote asset volume</th>\n",
       "      <th>Number of trades</th>\n",
       "      <th>Taker buy base asset volume</th>\n",
       "      <th>Taker buy quote asset volume</th>\n",
       "      <th>Ignore</th>\n",
       "    </tr>\n",
       "  </thead>\n",
       "  <tbody>\n",
       "    <tr>\n",
       "      <th>0</th>\n",
       "      <td>1651622400000</td>\n",
       "      <td>38127.16000000</td>\n",
       "      <td>67952.01000000</td>\n",
       "      <td>9000.00000000</td>\n",
       "      <td>39695.80000000</td>\n",
       "      <td>3289.47888900</td>\n",
       "      <td>1651708799999</td>\n",
       "      <td>128626868.06394152</td>\n",
       "      <td>109403</td>\n",
       "      <td>2070.21409400</td>\n",
       "      <td>...</td>\n",
       "      <td>0.64990000</td>\n",
       "      <td>0.60830000</td>\n",
       "      <td>0.64610000</td>\n",
       "      <td>7188003.90000000</td>\n",
       "      <td>1651708799999</td>\n",
       "      <td>4497422.00637000</td>\n",
       "      <td>8638</td>\n",
       "      <td>7020708.90000000</td>\n",
       "      <td>4393175.81487000</td>\n",
       "      <td>0</td>\n",
       "    </tr>\n",
       "    <tr>\n",
       "      <th>1</th>\n",
       "      <td>1651708800000</td>\n",
       "      <td>39690.01000000</td>\n",
       "      <td>48256.09000000</td>\n",
       "      <td>12000.00000000</td>\n",
       "      <td>36551.04000000</td>\n",
       "      <td>3747.85911700</td>\n",
       "      <td>1651795199999</td>\n",
       "      <td>142179013.42520536</td>\n",
       "      <td>136426</td>\n",
       "      <td>2305.80703300</td>\n",
       "      <td>...</td>\n",
       "      <td>0.65710000</td>\n",
       "      <td>0.58040000</td>\n",
       "      <td>0.59830000</td>\n",
       "      <td>11682556.70000000</td>\n",
       "      <td>1651795199999</td>\n",
       "      <td>7147202.83414000</td>\n",
       "      <td>13976</td>\n",
       "      <td>11566933.90000000</td>\n",
       "      <td>7074742.84037000</td>\n",
       "      <td>0</td>\n",
       "    </tr>\n",
       "    <tr>\n",
       "      <th>2</th>\n",
       "      <td>1651795200000</td>\n",
       "      <td>36552.97000000</td>\n",
       "      <td>90000.00000000</td>\n",
       "      <td>9500.00000000</td>\n",
       "      <td>35844.54000000</td>\n",
       "      <td>5133.87878000</td>\n",
       "      <td>1651881599999</td>\n",
       "      <td>185618082.67083564</td>\n",
       "      <td>195320</td>\n",
       "      <td>2791.12783400</td>\n",
       "      <td>...</td>\n",
       "      <td>0.61630000</td>\n",
       "      <td>0.58130000</td>\n",
       "      <td>0.58130000</td>\n",
       "      <td>12824794.10000000</td>\n",
       "      <td>1651881599999</td>\n",
       "      <td>7706389.17155000</td>\n",
       "      <td>15203</td>\n",
       "      <td>12610238.80000000</td>\n",
       "      <td>7578080.05335000</td>\n",
       "      <td>0</td>\n",
       "    </tr>\n",
       "    <tr>\n",
       "      <th>3</th>\n",
       "      <td>1651881600000</td>\n",
       "      <td>35851.70000000</td>\n",
       "      <td>179685.00000000</td>\n",
       "      <td>2000.00000000</td>\n",
       "      <td>35472.39000000</td>\n",
       "      <td>2648.74837000</td>\n",
       "      <td>1651967999999</td>\n",
       "      <td>94693433.70235498</td>\n",
       "      <td>110202</td>\n",
       "      <td>1439.33242400</td>\n",
       "      <td>...</td>\n",
       "      <td>0.60340000</td>\n",
       "      <td>0.56940000</td>\n",
       "      <td>0.58180000</td>\n",
       "      <td>4378006.60000000</td>\n",
       "      <td>1651967999999</td>\n",
       "      <td>2579982.36840000</td>\n",
       "      <td>5475</td>\n",
       "      <td>4097615.10000000</td>\n",
       "      <td>2413970.94234000</td>\n",
       "      <td>0</td>\n",
       "    </tr>\n",
       "    <tr>\n",
       "      <th>4</th>\n",
       "      <td>1651968000000</td>\n",
       "      <td>35472.40000000</td>\n",
       "      <td>172120.00000000</td>\n",
       "      <td>6988.00000000</td>\n",
       "      <td>34035.00000000</td>\n",
       "      <td>5928.73934500</td>\n",
       "      <td>1652054399999</td>\n",
       "      <td>204738551.12075512</td>\n",
       "      <td>216686</td>\n",
       "      <td>3380.01233600</td>\n",
       "      <td>...</td>\n",
       "      <td>0.58280000</td>\n",
       "      <td>0.55810000</td>\n",
       "      <td>0.56620000</td>\n",
       "      <td>9985261.30000000</td>\n",
       "      <td>1652054399999</td>\n",
       "      <td>5708676.23890000</td>\n",
       "      <td>10831</td>\n",
       "      <td>9690239.70000000</td>\n",
       "      <td>5539919.86459000</td>\n",
       "      <td>0</td>\n",
       "    </tr>\n",
       "    <tr>\n",
       "      <th>5</th>\n",
       "      <td>1652054400000</td>\n",
       "      <td>34036.87000000</td>\n",
       "      <td>44600.00000000</td>\n",
       "      <td>6392.00000000</td>\n",
       "      <td>30092.43000000</td>\n",
       "      <td>7687.56723900</td>\n",
       "      <td>1652140799999</td>\n",
       "      <td>249999769.04934389</td>\n",
       "      <td>259088</td>\n",
       "      <td>4741.36570900</td>\n",
       "      <td>...</td>\n",
       "      <td>0.57870000</td>\n",
       "      <td>0.47290000</td>\n",
       "      <td>0.48650000</td>\n",
       "      <td>27793876.20000000</td>\n",
       "      <td>1652140799999</td>\n",
       "      <td>14549295.78418000</td>\n",
       "      <td>28997</td>\n",
       "      <td>27405138.00000000</td>\n",
       "      <td>14344952.93562000</td>\n",
       "      <td>0</td>\n",
       "    </tr>\n",
       "    <tr>\n",
       "      <th>6</th>\n",
       "      <td>1652140800000</td>\n",
       "      <td>30089.10000000</td>\n",
       "      <td>32645.94000000</td>\n",
       "      <td>24600.00000000</td>\n",
       "      <td>31955.57000000</td>\n",
       "      <td>3075.50862500</td>\n",
       "      <td>1652227199999</td>\n",
       "      <td>96094163.49760137</td>\n",
       "      <td>99494</td>\n",
       "      <td>1981.96682100</td>\n",
       "      <td>...</td>\n",
       "      <td>0.49490000</td>\n",
       "      <td>0.48270000</td>\n",
       "      <td>0.48640000</td>\n",
       "      <td>382119.60000000</td>\n",
       "      <td>1652227199999</td>\n",
       "      <td>186851.99706000</td>\n",
       "      <td>636</td>\n",
       "      <td>330533.40000000</td>\n",
       "      <td>161839.68548000</td>\n",
       "      <td>0</td>\n",
       "    </tr>\n",
       "  </tbody>\n",
       "</table>\n",
       "<p>7 rows × 72 columns</p>\n",
       "</div>"
      ],
      "text/plain": [
       "         BTCUSDT                                                   \\\n",
       "       Open time            Open             High             Low   \n",
       "0  1651622400000  38127.16000000   67952.01000000   9000.00000000   \n",
       "1  1651708800000  39690.01000000   48256.09000000  12000.00000000   \n",
       "2  1651795200000  36552.97000000   90000.00000000   9500.00000000   \n",
       "3  1651881600000  35851.70000000  179685.00000000   2000.00000000   \n",
       "4  1651968000000  35472.40000000  172120.00000000   6988.00000000   \n",
       "5  1652054400000  34036.87000000   44600.00000000   6392.00000000   \n",
       "6  1652140800000  30089.10000000   32645.94000000  24600.00000000   \n",
       "\n",
       "                                                                     \\\n",
       "            Close         Volume     Close time  Quote asset volume   \n",
       "0  39695.80000000  3289.47888900  1651708799999  128626868.06394152   \n",
       "1  36551.04000000  3747.85911700  1651795199999  142179013.42520536   \n",
       "2  35844.54000000  5133.87878000  1651881599999  185618082.67083564   \n",
       "3  35472.39000000  2648.74837000  1651967999999   94693433.70235498   \n",
       "4  34035.00000000  5928.73934500  1652054399999  204738551.12075512   \n",
       "5  30092.43000000  7687.56723900  1652140799999  249999769.04934389   \n",
       "6  31955.57000000  3075.50862500  1652227199999   96094163.49760137   \n",
       "\n",
       "                                                ...     XRPUSDT              \\\n",
       "  Number of trades Taker buy base asset volume  ...        High         Low   \n",
       "0           109403               2070.21409400  ...  0.64990000  0.60830000   \n",
       "1           136426               2305.80703300  ...  0.65710000  0.58040000   \n",
       "2           195320               2791.12783400  ...  0.61630000  0.58130000   \n",
       "3           110202               1439.33242400  ...  0.60340000  0.56940000   \n",
       "4           216686               3380.01233600  ...  0.58280000  0.55810000   \n",
       "5           259088               4741.36570900  ...  0.57870000  0.47290000   \n",
       "6            99494               1981.96682100  ...  0.49490000  0.48270000   \n",
       "\n",
       "                                                                    \\\n",
       "        Close             Volume     Close time Quote asset volume   \n",
       "0  0.64610000   7188003.90000000  1651708799999   4497422.00637000   \n",
       "1  0.59830000  11682556.70000000  1651795199999   7147202.83414000   \n",
       "2  0.58130000  12824794.10000000  1651881599999   7706389.17155000   \n",
       "3  0.58180000   4378006.60000000  1651967999999   2579982.36840000   \n",
       "4  0.56620000   9985261.30000000  1652054399999   5708676.23890000   \n",
       "5  0.48650000  27793876.20000000  1652140799999  14549295.78418000   \n",
       "6  0.48640000    382119.60000000  1652227199999    186851.99706000   \n",
       "\n",
       "                                                                             \\\n",
       "  Number of trades Taker buy base asset volume Taker buy quote asset volume   \n",
       "0             8638            7020708.90000000             4393175.81487000   \n",
       "1            13976           11566933.90000000             7074742.84037000   \n",
       "2            15203           12610238.80000000             7578080.05335000   \n",
       "3             5475            4097615.10000000             2413970.94234000   \n",
       "4            10831            9690239.70000000             5539919.86459000   \n",
       "5            28997           27405138.00000000            14344952.93562000   \n",
       "6              636             330533.40000000              161839.68548000   \n",
       "\n",
       "          \n",
       "  Ignore  \n",
       "0      0  \n",
       "1      0  \n",
       "2      0  \n",
       "3      0  \n",
       "4      0  \n",
       "5      0  \n",
       "6      0  \n",
       "\n",
       "[7 rows x 72 columns]"
      ]
     },
     "execution_count": 80,
     "metadata": {},
     "output_type": "execute_result"
    }
   ],
   "source": [
    "assets = pd.concat(([pd.DataFrame(client.klines(symbol, \"1d\"), columns=columns) for symbol in symbols]), axis = 1, keys=symbols)\n",
    "assets"
   ]
  },
  {
   "cell_type": "markdown",
   "metadata": {},
   "source": [
    "Swapping levels for easier selection "
   ]
  },
  {
   "cell_type": "code",
   "execution_count": 81,
   "metadata": {},
   "outputs": [],
   "source": [
    "assets = assets.swaplevel(axis=1)"
   ]
  },
  {
   "cell_type": "code",
   "execution_count": 82,
   "metadata": {},
   "outputs": [],
   "source": [
    "assets = assets.set_index(pd.to_datetime(assets['Close time', 'BTCUSDT'], unit='ms')) # Set close time as index, needs improvement\n",
    "assets.index.name = 'Close time'"
   ]
  },
  {
   "cell_type": "markdown",
   "metadata": {},
   "source": [
    "## Daily Returns"
   ]
  },
  {
   "cell_type": "code",
   "execution_count": 83,
   "metadata": {},
   "outputs": [
    {
     "data": {
      "text/html": [
       "<div>\n",
       "<style scoped>\n",
       "    .dataframe tbody tr th:only-of-type {\n",
       "        vertical-align: middle;\n",
       "    }\n",
       "\n",
       "    .dataframe tbody tr th {\n",
       "        vertical-align: top;\n",
       "    }\n",
       "\n",
       "    .dataframe thead th {\n",
       "        text-align: right;\n",
       "    }\n",
       "</style>\n",
       "<table border=\"1\" class=\"dataframe\">\n",
       "  <thead>\n",
       "    <tr style=\"text-align: right;\">\n",
       "      <th></th>\n",
       "      <th>BTCUSDT</th>\n",
       "      <th>ETHUSDT</th>\n",
       "      <th>BNBUSDT</th>\n",
       "      <th>LTCUSDT</th>\n",
       "      <th>TRXUSDT</th>\n",
       "      <th>XRPUSDT</th>\n",
       "    </tr>\n",
       "    <tr>\n",
       "      <th>Close time</th>\n",
       "      <th></th>\n",
       "      <th></th>\n",
       "      <th></th>\n",
       "      <th></th>\n",
       "      <th></th>\n",
       "      <th></th>\n",
       "    </tr>\n",
       "  </thead>\n",
       "  <tbody>\n",
       "    <tr>\n",
       "      <th>2022-05-04 23:59:59.999</th>\n",
       "      <td>39695.80</td>\n",
       "      <td>2940.67</td>\n",
       "      <td>402.60</td>\n",
       "      <td>106.4</td>\n",
       "      <td>0.08630</td>\n",
       "      <td>0.6461</td>\n",
       "    </tr>\n",
       "    <tr>\n",
       "      <th>2022-05-05 23:59:59.999</th>\n",
       "      <td>36551.04</td>\n",
       "      <td>2747.93</td>\n",
       "      <td>378.50</td>\n",
       "      <td>96.9</td>\n",
       "      <td>0.07454</td>\n",
       "      <td>0.5983</td>\n",
       "    </tr>\n",
       "    <tr>\n",
       "      <th>2022-05-06 23:59:59.999</th>\n",
       "      <td>35844.54</td>\n",
       "      <td>2655.33</td>\n",
       "      <td>157.07</td>\n",
       "      <td>95.6</td>\n",
       "      <td>0.08167</td>\n",
       "      <td>0.5813</td>\n",
       "    </tr>\n",
       "    <tr>\n",
       "      <th>2022-05-07 23:59:59.999</th>\n",
       "      <td>35472.39</td>\n",
       "      <td>2637.33</td>\n",
       "      <td>365.50</td>\n",
       "      <td>94.5</td>\n",
       "      <td>0.08349</td>\n",
       "      <td>0.5818</td>\n",
       "    </tr>\n",
       "    <tr>\n",
       "      <th>2022-05-08 23:59:59.999</th>\n",
       "      <td>34035.00</td>\n",
       "      <td>2519.51</td>\n",
       "      <td>356.00</td>\n",
       "      <td>94.0</td>\n",
       "      <td>0.08795</td>\n",
       "      <td>0.5662</td>\n",
       "    </tr>\n",
       "    <tr>\n",
       "      <th>2022-05-09 23:59:59.999</th>\n",
       "      <td>30092.43</td>\n",
       "      <td>2227.25</td>\n",
       "      <td>296.40</td>\n",
       "      <td>76.0</td>\n",
       "      <td>0.07273</td>\n",
       "      <td>0.4865</td>\n",
       "    </tr>\n",
       "    <tr>\n",
       "      <th>2022-05-10 23:59:59.999</th>\n",
       "      <td>31955.57</td>\n",
       "      <td>2843.54</td>\n",
       "      <td>326.70</td>\n",
       "      <td>76.9</td>\n",
       "      <td>0.07196</td>\n",
       "      <td>0.4864</td>\n",
       "    </tr>\n",
       "  </tbody>\n",
       "</table>\n",
       "</div>"
      ],
      "text/plain": [
       "                          BTCUSDT  ETHUSDT  BNBUSDT  LTCUSDT  TRXUSDT  XRPUSDT\n",
       "Close time                                                                    \n",
       "2022-05-04 23:59:59.999  39695.80  2940.67   402.60    106.4  0.08630   0.6461\n",
       "2022-05-05 23:59:59.999  36551.04  2747.93   378.50     96.9  0.07454   0.5983\n",
       "2022-05-06 23:59:59.999  35844.54  2655.33   157.07     95.6  0.08167   0.5813\n",
       "2022-05-07 23:59:59.999  35472.39  2637.33   365.50     94.5  0.08349   0.5818\n",
       "2022-05-08 23:59:59.999  34035.00  2519.51   356.00     94.0  0.08795   0.5662\n",
       "2022-05-09 23:59:59.999  30092.43  2227.25   296.40     76.0  0.07273   0.4865\n",
       "2022-05-10 23:59:59.999  31955.57  2843.54   326.70     76.9  0.07196   0.4864"
      ]
     },
     "execution_count": 83,
     "metadata": {},
     "output_type": "execute_result"
    }
   ],
   "source": [
    "assets_close = assets[\"Close\"].copy().astype(float) # Daily close prices\n",
    "assets_close"
   ]
  },
  {
   "cell_type": "code",
   "execution_count": 84,
   "metadata": {},
   "outputs": [],
   "source": [
    "returns = assets_close.pct_change().dropna()"
   ]
  },
  {
   "cell_type": "code",
   "execution_count": 85,
   "metadata": {},
   "outputs": [
    {
     "data": {
      "text/html": [
       "<div>\n",
       "<style scoped>\n",
       "    .dataframe tbody tr th:only-of-type {\n",
       "        vertical-align: middle;\n",
       "    }\n",
       "\n",
       "    .dataframe tbody tr th {\n",
       "        vertical-align: top;\n",
       "    }\n",
       "\n",
       "    .dataframe thead th {\n",
       "        text-align: right;\n",
       "    }\n",
       "</style>\n",
       "<table border=\"1\" class=\"dataframe\">\n",
       "  <thead>\n",
       "    <tr style=\"text-align: right;\">\n",
       "      <th></th>\n",
       "      <th>BTCUSDT</th>\n",
       "      <th>ETHUSDT</th>\n",
       "      <th>BNBUSDT</th>\n",
       "      <th>LTCUSDT</th>\n",
       "      <th>TRXUSDT</th>\n",
       "      <th>XRPUSDT</th>\n",
       "    </tr>\n",
       "    <tr>\n",
       "      <th>Close time</th>\n",
       "      <th></th>\n",
       "      <th></th>\n",
       "      <th></th>\n",
       "      <th></th>\n",
       "      <th></th>\n",
       "      <th></th>\n",
       "    </tr>\n",
       "  </thead>\n",
       "  <tbody>\n",
       "    <tr>\n",
       "      <th>2022-05-05 23:59:59.999</th>\n",
       "      <td>-0.079221</td>\n",
       "      <td>-0.065543</td>\n",
       "      <td>-0.059861</td>\n",
       "      <td>-0.089286</td>\n",
       "      <td>-0.136269</td>\n",
       "      <td>-0.073982</td>\n",
       "    </tr>\n",
       "    <tr>\n",
       "      <th>2022-05-06 23:59:59.999</th>\n",
       "      <td>-0.019329</td>\n",
       "      <td>-0.033698</td>\n",
       "      <td>-0.585020</td>\n",
       "      <td>-0.013416</td>\n",
       "      <td>0.095653</td>\n",
       "      <td>-0.028414</td>\n",
       "    </tr>\n",
       "    <tr>\n",
       "      <th>2022-05-07 23:59:59.999</th>\n",
       "      <td>-0.010382</td>\n",
       "      <td>-0.006779</td>\n",
       "      <td>1.326988</td>\n",
       "      <td>-0.011506</td>\n",
       "      <td>0.022285</td>\n",
       "      <td>0.000860</td>\n",
       "    </tr>\n",
       "    <tr>\n",
       "      <th>2022-05-08 23:59:59.999</th>\n",
       "      <td>-0.040521</td>\n",
       "      <td>-0.044674</td>\n",
       "      <td>-0.025992</td>\n",
       "      <td>-0.005291</td>\n",
       "      <td>0.053420</td>\n",
       "      <td>-0.026813</td>\n",
       "    </tr>\n",
       "    <tr>\n",
       "      <th>2022-05-09 23:59:59.999</th>\n",
       "      <td>-0.115839</td>\n",
       "      <td>-0.115999</td>\n",
       "      <td>-0.167416</td>\n",
       "      <td>-0.191489</td>\n",
       "      <td>-0.173053</td>\n",
       "      <td>-0.140763</td>\n",
       "    </tr>\n",
       "  </tbody>\n",
       "</table>\n",
       "</div>"
      ],
      "text/plain": [
       "                          BTCUSDT   ETHUSDT   BNBUSDT   LTCUSDT   TRXUSDT  \\\n",
       "Close time                                                                  \n",
       "2022-05-05 23:59:59.999 -0.079221 -0.065543 -0.059861 -0.089286 -0.136269   \n",
       "2022-05-06 23:59:59.999 -0.019329 -0.033698 -0.585020 -0.013416  0.095653   \n",
       "2022-05-07 23:59:59.999 -0.010382 -0.006779  1.326988 -0.011506  0.022285   \n",
       "2022-05-08 23:59:59.999 -0.040521 -0.044674 -0.025992 -0.005291  0.053420   \n",
       "2022-05-09 23:59:59.999 -0.115839 -0.115999 -0.167416 -0.191489 -0.173053   \n",
       "\n",
       "                          XRPUSDT  \n",
       "Close time                         \n",
       "2022-05-05 23:59:59.999 -0.073982  \n",
       "2022-05-06 23:59:59.999 -0.028414  \n",
       "2022-05-07 23:59:59.999  0.000860  \n",
       "2022-05-08 23:59:59.999 -0.026813  \n",
       "2022-05-09 23:59:59.999 -0.140763  "
      ]
     },
     "execution_count": 85,
     "metadata": {},
     "output_type": "execute_result"
    }
   ],
   "source": [
    "returns.head()"
   ]
  },
  {
   "cell_type": "code",
   "execution_count": 86,
   "metadata": {},
   "outputs": [
    {
     "data": {
      "text/plain": [
       "BTCUSDT   -0.033897\n",
       "ETHUSDT    0.001669\n",
       "BNBUSDT    0.098488\n",
       "LTCUSDT   -0.049858\n",
       "TRXUSDT   -0.024759\n",
       "XRPUSDT   -0.044886\n",
       "dtype: float64"
      ]
     },
     "execution_count": 86,
     "metadata": {},
     "output_type": "execute_result"
    }
   ],
   "source": [
    "returns.mean(axis = 0)"
   ]
  },
  {
   "cell_type": "markdown",
   "metadata": {},
   "source": [
    "## Annualised Risk, Return & Sharpe"
   ]
  },
  {
   "cell_type": "code",
   "execution_count": 87,
   "metadata": {},
   "outputs": [],
   "source": [
    "def annualised_risk_return(returns):\n",
    "    stats = returns.agg(['mean', 'std']).T\n",
    "    stats.columns = ['Return', 'Risk']\n",
    "    stats.Return = stats.Return*365.25 # Crypto exchanges trade every day, including leap days.\n",
    "    stats.loc[stats.Return < -1, 'Return'] = -1 # Set losses > 100% to -100%\n",
    "    stats.Risk = stats.Risk * np.sqrt(365.25)\n",
    "    return stats "
   ]
  },
  {
   "cell_type": "code",
   "execution_count": 88,
   "metadata": {},
   "outputs": [],
   "source": [
    "stats = annualised_risk_return(returns) # Risk may not be accurate for mean daily losses > 0.274% ()"
   ]
  },
  {
   "cell_type": "code",
   "execution_count": 89,
   "metadata": {},
   "outputs": [],
   "source": [
    "riskfree_return = 0.031 # 5 Year Treasury Rate, but testnet resets every month"
   ]
  },
  {
   "cell_type": "code",
   "execution_count": 90,
   "metadata": {},
   "outputs": [
    {
     "data": {
      "text/html": [
       "<div>\n",
       "<style scoped>\n",
       "    .dataframe tbody tr th:only-of-type {\n",
       "        vertical-align: middle;\n",
       "    }\n",
       "\n",
       "    .dataframe tbody tr th {\n",
       "        vertical-align: top;\n",
       "    }\n",
       "\n",
       "    .dataframe thead th {\n",
       "        text-align: right;\n",
       "    }\n",
       "</style>\n",
       "<table border=\"1\" class=\"dataframe\">\n",
       "  <thead>\n",
       "    <tr style=\"text-align: right;\">\n",
       "      <th></th>\n",
       "      <th>Return</th>\n",
       "      <th>Risk</th>\n",
       "      <th>Sharpe</th>\n",
       "    </tr>\n",
       "  </thead>\n",
       "  <tbody>\n",
       "    <tr>\n",
       "      <th>BTCUSDT</th>\n",
       "      <td>-1.000000</td>\n",
       "      <td>1.170571</td>\n",
       "      <td>-0.880767</td>\n",
       "    </tr>\n",
       "    <tr>\n",
       "      <th>ETHUSDT</th>\n",
       "      <td>0.609477</td>\n",
       "      <td>2.668470</td>\n",
       "      <td>0.216782</td>\n",
       "    </tr>\n",
       "    <tr>\n",
       "      <th>BNBUSDT</th>\n",
       "      <td>35.972647</td>\n",
       "      <td>12.349303</td>\n",
       "      <td>2.910419</td>\n",
       "    </tr>\n",
       "    <tr>\n",
       "      <th>LTCUSDT</th>\n",
       "      <td>-1.000000</td>\n",
       "      <td>1.485445</td>\n",
       "      <td>-0.694068</td>\n",
       "    </tr>\n",
       "    <tr>\n",
       "      <th>TRXUSDT</th>\n",
       "      <td>-1.000000</td>\n",
       "      <td>2.048599</td>\n",
       "      <td>-0.503271</td>\n",
       "    </tr>\n",
       "    <tr>\n",
       "      <th>XRPUSDT</th>\n",
       "      <td>-1.000000</td>\n",
       "      <td>1.037176</td>\n",
       "      <td>-0.994045</td>\n",
       "    </tr>\n",
       "  </tbody>\n",
       "</table>\n",
       "</div>"
      ],
      "text/plain": [
       "            Return       Risk    Sharpe\n",
       "BTCUSDT  -1.000000   1.170571 -0.880767\n",
       "ETHUSDT   0.609477   2.668470  0.216782\n",
       "BNBUSDT  35.972647  12.349303  2.910419\n",
       "LTCUSDT  -1.000000   1.485445 -0.694068\n",
       "TRXUSDT  -1.000000   2.048599 -0.503271\n",
       "XRPUSDT  -1.000000   1.037176 -0.994045"
      ]
     },
     "execution_count": 90,
     "metadata": {},
     "output_type": "execute_result"
    }
   ],
   "source": [
    "stats['Sharpe'] = stats['Return'].sub(riskfree_return)/stats['Risk']\n",
    "stats"
   ]
  },
  {
   "cell_type": "markdown",
   "metadata": {},
   "source": [
    "## Optimal Sharpe Ratio Portfolio"
   ]
  },
  {
   "cell_type": "code",
   "execution_count": 91,
   "metadata": {},
   "outputs": [],
   "source": [
    "asset_qty = len(assets_close.columns)"
   ]
  },
  {
   "cell_type": "code",
   "execution_count": 92,
   "metadata": {},
   "outputs": [],
   "source": [
    "def portfolio_return(weights):\n",
    "    return returns.dot(weights.T).mean() * 365.25"
   ]
  },
  {
   "cell_type": "code",
   "execution_count": 93,
   "metadata": {},
   "outputs": [],
   "source": [
    "def portfolio_risk(weights):\n",
    "    return returns.dot(weights.T).std() * 365.25"
   ]
  },
  {
   "cell_type": "code",
   "execution_count": 94,
   "metadata": {},
   "outputs": [],
   "source": [
    "def minimized_sharpe(weights):\n",
    "    return (riskfree_return - portfolio_return(weights))/portfolio_risk(weights)"
   ]
  },
  {
   "cell_type": "code",
   "execution_count": 95,
   "metadata": {},
   "outputs": [],
   "source": [
    "equal_weights = np.full(asset_qty, 1/asset_qty)"
   ]
  },
  {
   "cell_type": "code",
   "execution_count": 96,
   "metadata": {},
   "outputs": [],
   "source": [
    "constraint = ({'type': 'eq', 'fun': lambda x: np.sum(x) -1})"
   ]
  },
  {
   "cell_type": "code",
   "execution_count": 97,
   "metadata": {},
   "outputs": [],
   "source": [
    "bounds = tuple((0,1) for x in range(asset_qty))"
   ]
  },
  {
   "cell_type": "code",
   "execution_count": 120,
   "metadata": {},
   "outputs": [],
   "source": [
    "# Sequential Least Squares Programming\n",
    "optimum = sco.minimize(minimized_sharpe, equal_weights, method='SLSQP', bounds=bounds, constraints=constraint)"
   ]
  },
  {
   "cell_type": "code",
   "execution_count": 114,
   "metadata": {},
   "outputs": [
    {
     "data": {
      "text/plain": [
       "     fun: -0.1522861582901173\n",
       "     jac: array([ 0.0560376 ,  0.00197842, -0.00013135,  0.08159326,  0.03998628,\n",
       "        0.0747871 ])\n",
       " message: 'Optimization terminated successfully'\n",
       "    nfev: 35\n",
       "     nit: 5\n",
       "    njev: 5\n",
       "  status: 0\n",
       " success: True\n",
       "       x: array([0., 0., 1., 0., 0., 0.])"
      ]
     },
     "execution_count": 114,
     "metadata": {},
     "output_type": "execute_result"
    }
   ],
   "source": [
    "np.set_printoptions(suppress = True)\n",
    "optimum # No surprise with that 157.07$ BNB outlier"
   ]
  },
  {
   "cell_type": "code",
   "execution_count": 115,
   "metadata": {},
   "outputs": [
    {
     "data": {
      "text/plain": [
       "BTCUSDT   0.0000\n",
       "ETHUSDT   0.0000\n",
       "BNBUSDT   1.0000\n",
       "LTCUSDT   0.0000\n",
       "TRXUSDT   0.0000\n",
       "XRPUSDT   0.0000\n",
       "dtype: float64"
      ]
     },
     "execution_count": 115,
     "metadata": {},
     "output_type": "execute_result"
    }
   ],
   "source": [
    "pd.options.display.float_format = '{:.4f}'.format\n",
    "optimal_weights = optimum['x']\n",
    "optimal_weights = pd.Series(index = assets_close.columns, data = optimal_weights)\n",
    "optimal_weights"
   ]
  },
  {
   "cell_type": "code",
   "execution_count": 116,
   "metadata": {},
   "outputs": [
    {
     "data": {
      "text/plain": [
       "35.972647413081965"
      ]
     },
     "execution_count": 116,
     "metadata": {},
     "output_type": "execute_result"
    }
   ],
   "source": [
    "portfolio_return(optimal_weights)"
   ]
  },
  {
   "cell_type": "code",
   "execution_count": 117,
   "metadata": {},
   "outputs": [
    {
     "data": {
      "text/plain": [
       "236.01388213241455"
      ]
     },
     "execution_count": 117,
     "metadata": {},
     "output_type": "execute_result"
    }
   ],
   "source": [
    "portfolio_risk(optimal_weights)"
   ]
  },
  {
   "cell_type": "code",
   "execution_count": 118,
   "metadata": {},
   "outputs": [
    {
     "data": {
      "text/plain": [
       "0.1522861582901173"
      ]
     },
     "execution_count": 118,
     "metadata": {},
     "output_type": "execute_result"
    }
   ],
   "source": [
    "-minimized_sharpe(optimal_weights)"
   ]
  }
 ],
 "metadata": {
  "interpreter": {
   "hash": "256403d68b5d0af2638f25542965113b369c229327ad6922ccca59b793ac3c52"
  },
  "kernelspec": {
   "display_name": "Python 3.10.4 64-bit",
   "language": "python",
   "name": "python3"
  },
  "language_info": {
   "codemirror_mode": {
    "name": "ipython",
    "version": 3
   },
   "file_extension": ".py",
   "mimetype": "text/x-python",
   "name": "python",
   "nbconvert_exporter": "python",
   "pygments_lexer": "ipython3",
   "version": "3.10.4"
  },
  "orig_nbformat": 4
 },
 "nbformat": 4,
 "nbformat_minor": 2
}
